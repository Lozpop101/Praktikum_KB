{
 "cells": [
  {
   "cell_type": "markdown",
   "id": "4db3757a",
   "metadata": {},
   "source": [
    "# Posttest 2 Kecerdasan Buatan"
   ]
  },
  {
   "cell_type": "code",
   "execution_count": 8,
   "id": "9de2bc75",
   "metadata": {},
   "outputs": [],
   "source": [
    "import numpy as np\n",
    "import pandas as pd"
   ]
  },
  {
   "cell_type": "code",
   "execution_count": 6,
   "id": "50b56b1b",
   "metadata": {},
   "outputs": [
    {
     "data": {
      "text/html": [
       "<div>\n",
       "<style scoped>\n",
       "    .dataframe tbody tr th:only-of-type {\n",
       "        vertical-align: middle;\n",
       "    }\n",
       "\n",
       "    .dataframe tbody tr th {\n",
       "        vertical-align: top;\n",
       "    }\n",
       "\n",
       "    .dataframe thead th {\n",
       "        text-align: right;\n",
       "    }\n",
       "</style>\n",
       "<table border=\"1\" class=\"dataframe\">\n",
       "  <thead>\n",
       "    <tr style=\"text-align: right;\">\n",
       "      <th></th>\n",
       "      <th>id</th>\n",
       "      <th>NAME</th>\n",
       "      <th>host id</th>\n",
       "      <th>host_identity_verified</th>\n",
       "      <th>host name</th>\n",
       "      <th>neighbourhood group</th>\n",
       "      <th>neighbourhood</th>\n",
       "      <th>lat</th>\n",
       "      <th>long</th>\n",
       "      <th>country</th>\n",
       "      <th>...</th>\n",
       "      <th>service fee</th>\n",
       "      <th>minimum nights</th>\n",
       "      <th>number of reviews</th>\n",
       "      <th>last review</th>\n",
       "      <th>reviews per month</th>\n",
       "      <th>review rate number</th>\n",
       "      <th>calculated host listings count</th>\n",
       "      <th>availability 365</th>\n",
       "      <th>house_rules</th>\n",
       "      <th>license</th>\n",
       "    </tr>\n",
       "  </thead>\n",
       "  <tbody>\n",
       "    <tr>\n",
       "      <th>0</th>\n",
       "      <td>1001254</td>\n",
       "      <td>Clean &amp; quiet apt home by the park</td>\n",
       "      <td>80014485718</td>\n",
       "      <td>unconfirmed</td>\n",
       "      <td>Madaline</td>\n",
       "      <td>Brooklyn</td>\n",
       "      <td>Kensington</td>\n",
       "      <td>40.64749</td>\n",
       "      <td>-73.97237</td>\n",
       "      <td>United States</td>\n",
       "      <td>...</td>\n",
       "      <td>$193</td>\n",
       "      <td>10.0</td>\n",
       "      <td>9.0</td>\n",
       "      <td>10/19/2021</td>\n",
       "      <td>0.21</td>\n",
       "      <td>4.0</td>\n",
       "      <td>6.0</td>\n",
       "      <td>286.0</td>\n",
       "      <td>Clean up and treat the home the way you'd like...</td>\n",
       "      <td>NaN</td>\n",
       "    </tr>\n",
       "    <tr>\n",
       "      <th>1</th>\n",
       "      <td>1002102</td>\n",
       "      <td>Skylit Midtown Castle</td>\n",
       "      <td>52335172823</td>\n",
       "      <td>verified</td>\n",
       "      <td>Jenna</td>\n",
       "      <td>Manhattan</td>\n",
       "      <td>Midtown</td>\n",
       "      <td>40.75362</td>\n",
       "      <td>-73.98377</td>\n",
       "      <td>United States</td>\n",
       "      <td>...</td>\n",
       "      <td>$28</td>\n",
       "      <td>30.0</td>\n",
       "      <td>45.0</td>\n",
       "      <td>5/21/2022</td>\n",
       "      <td>0.38</td>\n",
       "      <td>4.0</td>\n",
       "      <td>2.0</td>\n",
       "      <td>228.0</td>\n",
       "      <td>Pet friendly but please confirm with me if the...</td>\n",
       "      <td>NaN</td>\n",
       "    </tr>\n",
       "    <tr>\n",
       "      <th>2</th>\n",
       "      <td>1002403</td>\n",
       "      <td>THE VILLAGE OF HARLEM....NEW YORK !</td>\n",
       "      <td>78829239556</td>\n",
       "      <td>NaN</td>\n",
       "      <td>Elise</td>\n",
       "      <td>Manhattan</td>\n",
       "      <td>Harlem</td>\n",
       "      <td>40.80902</td>\n",
       "      <td>-73.94190</td>\n",
       "      <td>United States</td>\n",
       "      <td>...</td>\n",
       "      <td>$124</td>\n",
       "      <td>3.0</td>\n",
       "      <td>0.0</td>\n",
       "      <td>NaN</td>\n",
       "      <td>NaN</td>\n",
       "      <td>5.0</td>\n",
       "      <td>1.0</td>\n",
       "      <td>352.0</td>\n",
       "      <td>I encourage you to use my kitchen, cooking and...</td>\n",
       "      <td>NaN</td>\n",
       "    </tr>\n",
       "    <tr>\n",
       "      <th>3</th>\n",
       "      <td>1002755</td>\n",
       "      <td>NaN</td>\n",
       "      <td>85098326012</td>\n",
       "      <td>unconfirmed</td>\n",
       "      <td>Garry</td>\n",
       "      <td>Brooklyn</td>\n",
       "      <td>Clinton Hill</td>\n",
       "      <td>40.68514</td>\n",
       "      <td>-73.95976</td>\n",
       "      <td>United States</td>\n",
       "      <td>...</td>\n",
       "      <td>$74</td>\n",
       "      <td>30.0</td>\n",
       "      <td>270.0</td>\n",
       "      <td>7/5/2019</td>\n",
       "      <td>4.64</td>\n",
       "      <td>4.0</td>\n",
       "      <td>1.0</td>\n",
       "      <td>322.0</td>\n",
       "      <td>NaN</td>\n",
       "      <td>NaN</td>\n",
       "    </tr>\n",
       "    <tr>\n",
       "      <th>4</th>\n",
       "      <td>1003689</td>\n",
       "      <td>Entire Apt: Spacious Studio/Loft by central park</td>\n",
       "      <td>92037596077</td>\n",
       "      <td>verified</td>\n",
       "      <td>Lyndon</td>\n",
       "      <td>Manhattan</td>\n",
       "      <td>East Harlem</td>\n",
       "      <td>40.79851</td>\n",
       "      <td>-73.94399</td>\n",
       "      <td>United States</td>\n",
       "      <td>...</td>\n",
       "      <td>$41</td>\n",
       "      <td>10.0</td>\n",
       "      <td>9.0</td>\n",
       "      <td>11/19/2018</td>\n",
       "      <td>0.10</td>\n",
       "      <td>3.0</td>\n",
       "      <td>1.0</td>\n",
       "      <td>289.0</td>\n",
       "      <td>Please no smoking in the house, porch or on th...</td>\n",
       "      <td>NaN</td>\n",
       "    </tr>\n",
       "  </tbody>\n",
       "</table>\n",
       "<p>5 rows × 26 columns</p>\n",
       "</div>"
      ],
      "text/plain": [
       "        id                                              NAME      host id  \\\n",
       "0  1001254                Clean & quiet apt home by the park  80014485718   \n",
       "1  1002102                             Skylit Midtown Castle  52335172823   \n",
       "2  1002403               THE VILLAGE OF HARLEM....NEW YORK !  78829239556   \n",
       "3  1002755                                               NaN  85098326012   \n",
       "4  1003689  Entire Apt: Spacious Studio/Loft by central park  92037596077   \n",
       "\n",
       "  host_identity_verified host name neighbourhood group neighbourhood  \\\n",
       "0            unconfirmed  Madaline            Brooklyn    Kensington   \n",
       "1               verified     Jenna           Manhattan       Midtown   \n",
       "2                    NaN     Elise           Manhattan        Harlem   \n",
       "3            unconfirmed     Garry            Brooklyn  Clinton Hill   \n",
       "4               verified    Lyndon           Manhattan   East Harlem   \n",
       "\n",
       "        lat      long        country  ... service fee minimum nights  \\\n",
       "0  40.64749 -73.97237  United States  ...       $193            10.0   \n",
       "1  40.75362 -73.98377  United States  ...        $28            30.0   \n",
       "2  40.80902 -73.94190  United States  ...       $124             3.0   \n",
       "3  40.68514 -73.95976  United States  ...        $74            30.0   \n",
       "4  40.79851 -73.94399  United States  ...        $41            10.0   \n",
       "\n",
       "  number of reviews last review  reviews per month review rate number  \\\n",
       "0               9.0  10/19/2021               0.21                4.0   \n",
       "1              45.0   5/21/2022               0.38                4.0   \n",
       "2               0.0         NaN                NaN                5.0   \n",
       "3             270.0    7/5/2019               4.64                4.0   \n",
       "4               9.0  11/19/2018               0.10                3.0   \n",
       "\n",
       "  calculated host listings count  availability 365  \\\n",
       "0                            6.0             286.0   \n",
       "1                            2.0             228.0   \n",
       "2                            1.0             352.0   \n",
       "3                            1.0             322.0   \n",
       "4                            1.0             289.0   \n",
       "\n",
       "                                         house_rules license  \n",
       "0  Clean up and treat the home the way you'd like...     NaN  \n",
       "1  Pet friendly but please confirm with me if the...     NaN  \n",
       "2  I encourage you to use my kitchen, cooking and...     NaN  \n",
       "3                                                NaN     NaN  \n",
       "4  Please no smoking in the house, porch or on th...     NaN  \n",
       "\n",
       "[5 rows x 26 columns]"
      ]
     },
     "execution_count": 6,
     "metadata": {},
     "output_type": "execute_result"
    }
   ],
   "source": [
    "df = pd.read_csv(\"Airbnb_Open_Data.csv\", low_memory=False)\n",
    "df.head()"
   ]
  },
  {
   "cell_type": "markdown",
   "id": "4ec249e8",
   "metadata": {},
   "source": [
    "Ketentuan 1 Informasi dari dataset"
   ]
  },
  {
   "cell_type": "code",
   "execution_count": 19,
   "id": "697a1c1e",
   "metadata": {},
   "outputs": [
    {
     "name": "stdout",
     "output_type": "stream",
     "text": [
      "<class 'pandas.core.frame.DataFrame'>\n",
      "RangeIndex: 102599 entries, 0 to 102598\n",
      "Data columns (total 26 columns):\n",
      " #   Column                          Non-Null Count   Dtype  \n",
      "---  ------                          --------------   -----  \n",
      " 0   id                              102599 non-null  int64  \n",
      " 1   NAME                            102349 non-null  object \n",
      " 2   host id                         102599 non-null  int64  \n",
      " 3   host_identity_verified          102310 non-null  object \n",
      " 4   host name                       102193 non-null  object \n",
      " 5   neighbourhood group             102570 non-null  object \n",
      " 6   neighbourhood                   102583 non-null  object \n",
      " 7   lat                             102591 non-null  float64\n",
      " 8   long                            102591 non-null  float64\n",
      " 9   country                         102067 non-null  object \n",
      " 10  country code                    102468 non-null  object \n",
      " 11  instant_bookable                102494 non-null  object \n",
      " 12  cancellation_policy             102523 non-null  object \n",
      " 13  room type                       102599 non-null  object \n",
      " 14  Construction year               102385 non-null  float64\n",
      " 15  price                           102352 non-null  object \n",
      " 16  service fee                     102326 non-null  object \n",
      " 17  minimum nights                  102190 non-null  float64\n",
      " 18  number of reviews               102416 non-null  float64\n",
      " 19  last review                     86706 non-null   object \n",
      " 20  reviews per month               86720 non-null   float64\n",
      " 21  review rate number              102273 non-null  float64\n",
      " 22  calculated host listings count  102280 non-null  float64\n",
      " 23  availability 365                102151 non-null  float64\n",
      " 24  house_rules                     50468 non-null   object \n",
      " 25  license                         2 non-null       object \n",
      "dtypes: float64(9), int64(2), object(15)\n",
      "memory usage: 20.4+ MB\n"
     ]
    }
   ],
   "source": [
    "df.info()"
   ]
  },
  {
   "cell_type": "code",
   "execution_count": 20,
   "id": "b395a918",
   "metadata": {},
   "outputs": [
    {
     "data": {
      "text/plain": [
       "6044940     2\n",
       "6067584     2\n",
       "6077525     2\n",
       "6076973     2\n",
       "6076421     2\n",
       "           ..\n",
       "19804390    1\n",
       "19803837    1\n",
       "19803285    1\n",
       "19802733    1\n",
       "57367417    1\n",
       "Name: id, Length: 102058, dtype: int64"
      ]
     },
     "execution_count": 20,
     "metadata": {},
     "output_type": "execute_result"
    }
   ],
   "source": [
    "df['id'].value_counts()"
   ]
  },
  {
   "cell_type": "code",
   "execution_count": 21,
   "id": "0ecba70a",
   "metadata": {},
   "outputs": [
    {
     "data": {
      "text/plain": [
       "Home away from home                               33\n",
       "Hillside Hotel                                    30\n",
       "Water View King Bed Hotel Room                    30\n",
       "New york Multi-unit building                      27\n",
       "Brooklyn Apartment                                27\n",
       "                                                  ..\n",
       "♂ ♀ Sunny Bedroom in Popular Brooklyn              1\n",
       "♂ ♀ Large Room Close to Express Subway + Bus       1\n",
       "Clean room in Soho/Nolita                          1\n",
       "♂ ♀ Large Sunny Bedroom Walk to Express Subway     1\n",
       "Parisian Style Apartment in Heart of Brooklyn      1\n",
       "Name: NAME, Length: 61281, dtype: int64"
      ]
     },
     "execution_count": 21,
     "metadata": {},
     "output_type": "execute_result"
    }
   ],
   "source": [
    "df['NAME'].value_counts()"
   ]
  },
  {
   "cell_type": "code",
   "execution_count": 33,
   "id": "e469f587",
   "metadata": {},
   "outputs": [
    {
     "data": {
      "text/plain": [
       "38729751923    2\n",
       "3895711649     2\n",
       "43698780331    2\n",
       "83121548580    2\n",
       "95831271296    2\n",
       "              ..\n",
       "18961598806    1\n",
       "32422869247    1\n",
       "32863385446    1\n",
       "6167807449     1\n",
       "93578954226    1\n",
       "Name: host id, Length: 102057, dtype: int64"
      ]
     },
     "execution_count": 33,
     "metadata": {},
     "output_type": "execute_result"
    }
   ],
   "source": [
    "df['host id'].value_counts()"
   ]
  },
  {
   "cell_type": "code",
   "execution_count": 23,
   "id": "4a477d85",
   "metadata": {},
   "outputs": [
    {
     "data": {
      "text/plain": [
       "unconfirmed    51200\n",
       "verified       51110\n",
       "Name: host_identity_verified, dtype: int64"
      ]
     },
     "execution_count": 23,
     "metadata": {},
     "output_type": "execute_result"
    }
   ],
   "source": [
    "df['host_identity_verified'].value_counts()"
   ]
  },
  {
   "cell_type": "code",
   "execution_count": 30,
   "id": "e4e4a211",
   "metadata": {},
   "outputs": [
    {
     "data": {
      "text/plain": [
       "Michael              881\n",
       "David                764\n",
       "John                 581\n",
       "Alex                 546\n",
       "Sonder (NYC)         516\n",
       "                    ... \n",
       "Carly & Sebastian      1\n",
       "Soph                   1\n",
       "Anshu                  1\n",
       "Hayet                  1\n",
       "Shuhel                 1\n",
       "Name: host name, Length: 13190, dtype: int64"
      ]
     },
     "execution_count": 30,
     "metadata": {},
     "output_type": "execute_result"
    }
   ],
   "source": [
    "df['host name'].value_counts()"
   ]
  },
  {
   "cell_type": "code",
   "execution_count": 34,
   "id": "304ffd7f",
   "metadata": {},
   "outputs": [
    {
     "data": {
      "text/plain": [
       "Manhattan        43792\n",
       "Brooklyn         41842\n",
       "Queens           13267\n",
       "Bronx             2712\n",
       "Staten Island      955\n",
       "brookln              1\n",
       "manhatan             1\n",
       "Name: neighbourhood group, dtype: int64"
      ]
     },
     "execution_count": 34,
     "metadata": {},
     "output_type": "execute_result"
    }
   ],
   "source": [
    "df['neighbourhood group'].value_counts()"
   ]
  },
  {
   "cell_type": "code",
   "execution_count": 35,
   "id": "35e7db53",
   "metadata": {},
   "outputs": [
    {
     "data": {
      "text/plain": [
       "Bedford-Stuyvesant        7937\n",
       "Williamsburg              7775\n",
       "Harlem                    5466\n",
       "Bushwick                  4982\n",
       "Hell's Kitchen            3965\n",
       "                          ... \n",
       "Rossville                    3\n",
       "Lighthouse Hill              3\n",
       "Fort Wadsworth               2\n",
       "Glen Oaks                    2\n",
       "Chelsea, Staten Island       1\n",
       "Name: neighbourhood, Length: 224, dtype: int64"
      ]
     },
     "execution_count": 35,
     "metadata": {},
     "output_type": "execute_result"
    }
   ],
   "source": [
    "df['neighbourhood'].value_counts()"
   ]
  },
  {
   "cell_type": "code",
   "execution_count": 36,
   "id": "92a00666",
   "metadata": {},
   "outputs": [
    {
     "data": {
      "text/plain": [
       "40.76411    36\n",
       "40.71813    32\n",
       "40.76125    28\n",
       "40.73756    27\n",
       "40.72440    25\n",
       "            ..\n",
       "40.57718     1\n",
       "40.66649     1\n",
       "40.62918     1\n",
       "40.62845     1\n",
       "40.84753     1\n",
       "Name: lat, Length: 21991, dtype: int64"
      ]
     },
     "execution_count": 36,
     "metadata": {},
     "output_type": "execute_result"
    }
   ],
   "source": [
    "df['lat'].value_counts()"
   ]
  },
  {
   "cell_type": "code",
   "execution_count": 37,
   "id": "bfd13999",
   "metadata": {},
   "outputs": [
    {
     "data": {
      "text/plain": [
       "-73.99371    44\n",
       "-73.95350    40\n",
       "-73.95427    37\n",
       "-73.94791    37\n",
       "-73.95677    34\n",
       "             ..\n",
       "-73.96689     1\n",
       "-73.77429     1\n",
       "-73.84923     1\n",
       "-73.88443     1\n",
       "-73.89887     1\n",
       "Name: long, Length: 17774, dtype: int64"
      ]
     },
     "execution_count": 37,
     "metadata": {},
     "output_type": "execute_result"
    }
   ],
   "source": [
    "df['long'].value_counts()"
   ]
  },
  {
   "cell_type": "code",
   "execution_count": 38,
   "id": "1ebe101d",
   "metadata": {},
   "outputs": [
    {
     "data": {
      "text/plain": [
       "United States    102067\n",
       "Name: country, dtype: int64"
      ]
     },
     "execution_count": 38,
     "metadata": {},
     "output_type": "execute_result"
    }
   ],
   "source": [
    "df['country'].value_counts()"
   ]
  },
  {
   "cell_type": "code",
   "execution_count": 39,
   "id": "d37ff950",
   "metadata": {},
   "outputs": [
    {
     "data": {
      "text/plain": [
       "US    102468\n",
       "Name: country code, dtype: int64"
      ]
     },
     "execution_count": 39,
     "metadata": {},
     "output_type": "execute_result"
    }
   ],
   "source": [
    "df['country code'].value_counts()"
   ]
  },
  {
   "cell_type": "code",
   "execution_count": 40,
   "id": "d44120df",
   "metadata": {},
   "outputs": [
    {
     "data": {
      "text/plain": [
       "False    51474\n",
       "True     51020\n",
       "Name: instant_bookable, dtype: int64"
      ]
     },
     "execution_count": 40,
     "metadata": {},
     "output_type": "execute_result"
    }
   ],
   "source": [
    "df['instant_bookable'].value_counts()"
   ]
  },
  {
   "cell_type": "code",
   "execution_count": 41,
   "id": "4b83dda1",
   "metadata": {},
   "outputs": [
    {
     "data": {
      "text/plain": [
       "moderate    34343\n",
       "strict      34106\n",
       "flexible    34074\n",
       "Name: cancellation_policy, dtype: int64"
      ]
     },
     "execution_count": 41,
     "metadata": {},
     "output_type": "execute_result"
    }
   ],
   "source": [
    "df['cancellation_policy'].value_counts()"
   ]
  },
  {
   "cell_type": "code",
   "execution_count": 42,
   "id": "97a67a65",
   "metadata": {},
   "outputs": [
    {
     "data": {
      "text/plain": [
       "Entire home/apt    53701\n",
       "Private room       46556\n",
       "Shared room         2226\n",
       "Hotel room           116\n",
       "Name: room type, dtype: int64"
      ]
     },
     "execution_count": 42,
     "metadata": {},
     "output_type": "execute_result"
    }
   ],
   "source": [
    "df['room type'].value_counts()"
   ]
  },
  {
   "cell_type": "code",
   "execution_count": 43,
   "id": "a730b0f4",
   "metadata": {},
   "outputs": [
    {
     "data": {
      "text/plain": [
       "2014.0    5243\n",
       "2008.0    5225\n",
       "2006.0    5223\n",
       "2019.0    5201\n",
       "2009.0    5166\n",
       "2020.0    5158\n",
       "2010.0    5155\n",
       "2022.0    5134\n",
       "2005.0    5132\n",
       "2012.0    5131\n",
       "2003.0    5125\n",
       "2007.0    5106\n",
       "2015.0    5094\n",
       "2017.0    5066\n",
       "2011.0    5058\n",
       "2018.0    5057\n",
       "2021.0    5039\n",
       "2004.0    5037\n",
       "2013.0    5018\n",
       "2016.0    5017\n",
       "Name: Construction year, dtype: int64"
      ]
     },
     "execution_count": 43,
     "metadata": {},
     "output_type": "execute_result"
    }
   ],
   "source": [
    "df['Construction year'].value_counts()"
   ]
  },
  {
   "cell_type": "code",
   "execution_count": 44,
   "id": "fbf59dfc",
   "metadata": {},
   "outputs": [
    {
     "data": {
      "text/plain": [
       "$206       137\n",
       "$1,056     132\n",
       "$481       129\n",
       "$833       128\n",
       "$573       127\n",
       "          ... \n",
       "$369        58\n",
       "$923        57\n",
       "$786        54\n",
       "$89         53\n",
       "$187        52\n",
       "Name: price, Length: 1151, dtype: int64"
      ]
     },
     "execution_count": 44,
     "metadata": {},
     "output_type": "execute_result"
    }
   ],
   "source": [
    "df['price'].value_counts()"
   ]
  },
  {
   "cell_type": "code",
   "execution_count": 45,
   "id": "5df4c208",
   "metadata": {},
   "outputs": [
    {
     "data": {
      "text/plain": [
       "$41      526\n",
       "$216     524\n",
       "$81      519\n",
       "$177     518\n",
       "$57      513\n",
       "        ... \n",
       "$73      386\n",
       "$58      384\n",
       "$67      381\n",
       "$10      267\n",
       "$240     248\n",
       "Name: service fee, Length: 231, dtype: int64"
      ]
     },
     "execution_count": 45,
     "metadata": {},
     "output_type": "execute_result"
    }
   ],
   "source": [
    "df['service fee'].value_counts()"
   ]
  },
  {
   "cell_type": "code",
   "execution_count": 46,
   "id": "d45b7a4d",
   "metadata": {},
   "outputs": [
    {
     "data": {
      "text/plain": [
       " 1.0      25421\n",
       " 2.0      23604\n",
       " 3.0      16113\n",
       " 30.0     11653\n",
       " 4.0       6625\n",
       "          ...  \n",
       "-3.0          1\n",
       " 273.0        1\n",
       " 175.0        1\n",
       " 98.0         1\n",
       " 825.0        1\n",
       "Name: minimum nights, Length: 153, dtype: int64"
      ]
     },
     "execution_count": 46,
     "metadata": {},
     "output_type": "execute_result"
    }
   ],
   "source": [
    "df['minimum nights'].value_counts()"
   ]
  },
  {
   "cell_type": "code",
   "execution_count": 47,
   "id": "d1418c69",
   "metadata": {},
   "outputs": [
    {
     "data": {
      "text/plain": [
       "0.0      15734\n",
       "1.0      10408\n",
       "2.0       7175\n",
       "3.0       5375\n",
       "4.0       4151\n",
       "         ...  \n",
       "567.0        1\n",
       "592.0        1\n",
       "797.0        1\n",
       "966.0        1\n",
       "300.0        1\n",
       "Name: number of reviews, Length: 476, dtype: int64"
      ]
     },
     "execution_count": 47,
     "metadata": {},
     "output_type": "execute_result"
    }
   ],
   "source": [
    "df['number of reviews'].value_counts()"
   ]
  },
  {
   "cell_type": "code",
   "execution_count": 48,
   "id": "d3e52815",
   "metadata": {},
   "outputs": [
    {
     "data": {
      "text/plain": [
       "6/23/2019     2443\n",
       "6/30/2019     2232\n",
       "7/1/2019      2218\n",
       "6/24/2019     1510\n",
       "7/7/2019      1151\n",
       "              ... \n",
       "3/14/2015        1\n",
       "4/24/2015        1\n",
       "6/14/2014        1\n",
       "2/21/2015        1\n",
       "10/27/2014       1\n",
       "Name: last review, Length: 2477, dtype: int64"
      ]
     },
     "execution_count": 48,
     "metadata": {},
     "output_type": "execute_result"
    }
   ],
   "source": [
    "df['last review'].value_counts()"
   ]
  },
  {
   "cell_type": "code",
   "execution_count": 49,
   "id": "29073e8d",
   "metadata": {},
   "outputs": [
    {
     "data": {
      "text/plain": [
       "0.03     1666\n",
       "0.05     1490\n",
       "1.00     1455\n",
       "0.04     1270\n",
       "0.09     1269\n",
       "         ... \n",
       "9.10        1\n",
       "10.36       1\n",
       "8.50        1\n",
       "15.32       1\n",
       "33.08       1\n",
       "Name: reviews per month, Length: 1016, dtype: int64"
      ]
     },
     "execution_count": 49,
     "metadata": {},
     "output_type": "execute_result"
    }
   ],
   "source": [
    "df['reviews per month'].value_counts()"
   ]
  },
  {
   "cell_type": "code",
   "execution_count": 50,
   "id": "3eb5f53e",
   "metadata": {},
   "outputs": [
    {
     "data": {
      "text/plain": [
       "5.0    23369\n",
       "4.0    23329\n",
       "3.0    23265\n",
       "2.0    23098\n",
       "1.0     9212\n",
       "Name: review rate number, dtype: int64"
      ]
     },
     "execution_count": 50,
     "metadata": {},
     "output_type": "execute_result"
    }
   ],
   "source": [
    "df['review rate number'].value_counts()"
   ]
  },
  {
   "cell_type": "code",
   "execution_count": 51,
   "id": "4e57aa4f",
   "metadata": {},
   "outputs": [
    {
     "data": {
      "text/plain": [
       "1.0     63429\n",
       "2.0     14445\n",
       "3.0      6577\n",
       "4.0      3552\n",
       "5.0      1995\n",
       "        ...  \n",
       "86.0       21\n",
       "22.0       20\n",
       "55.0       15\n",
       "46.0        9\n",
       "80.0        7\n",
       "Name: calculated host listings count, Length: 78, dtype: int64"
      ]
     },
     "execution_count": 51,
     "metadata": {},
     "output_type": "execute_result"
    }
   ],
   "source": [
    "df['calculated host listings count'].value_counts()"
   ]
  },
  {
   "cell_type": "code",
   "execution_count": 52,
   "id": "6101ac9b",
   "metadata": {},
   "outputs": [
    {
     "data": {
      "text/plain": [
       " 0.0       23544\n",
       " 365.0      2500\n",
       " 364.0      1168\n",
       " 89.0        751\n",
       " 1.0         734\n",
       "           ...  \n",
       " 375.0        33\n",
       "-6.0          32\n",
       " 401.0        30\n",
       " 391.0        30\n",
       " 3677.0        1\n",
       "Name: availability 365, Length: 438, dtype: int64"
      ]
     },
     "execution_count": 52,
     "metadata": {},
     "output_type": "execute_result"
    }
   ],
   "source": [
    "df['availability 365'].value_counts()"
   ]
  },
  {
   "cell_type": "code",
   "execution_count": 53,
   "id": "784b95d6",
   "metadata": {},
   "outputs": [
    {
     "data": {
      "text/plain": [
       "#NAME?                                                                                                                                                                                                                                                                                                                                                                                                                                                                                                                                                                                                                                                                                                                                                                                                                                                                                                                                                                                                                                      2712\n",
       "House Rules 1. Check-in is 4 pm local time. If the unit is ready earlier, we’ll let you know. Check-out is normally 11 am local time, but we’d be happy to extend it as long as we don’t have a cleaning scheduled. Just let us know.  2. All bookings require a security deposit of at least $300, which will be refunded within 7 days of your check-out. 3. For security measures we require all guests to provide proof of identification through ID verification on our own website. In order to check in we'll need a photo of your ID.  4. Our cancellation policy is as shown on our ad and defined by the site you are booking through.  5. Don’t let $300 go up in smoke. There's no smoking allowed in any Flatbook and a $300 fine for breaking this rule.  6. Unfortunately we don’t allow pets in any of our apartments. 7. Unless you’re staying in one of our specialty apartments, we don’t allow parties or excessive noise. 8. If we find the place very messy, we have to charge an extra $40 for every extra hour o     904\n",
       "Please remember that this is a residential building. The building rules, apartment occupancy restrictions and the year-round tenants must be respected.                                                                                                                                                                                                                                                                                                                                                                                                                                                                                                                                                                                                                                                                                                                                                                                                                                                                                      881\n",
       "No Smoking No Pets                                                                                                                                                                                                                                                                                                                                                                                                                                                                                                                                                                                                                                                                                                                                                                                                                                                                                                                                                                                                                           814\n",
       "Please remember that this is a residential building. The building rules, apartment occupancy restrictions and the year-round tenants must be respected.  Parties, pets and smoking are not allowed under any circumstances and incur significant fees.                                                                                                                                                                                                                                                                                                                                                                                                                                                                                                                                                                                                                                                                                                                                                                                       552\n",
       "                                                                                                                                                                                                                                                                                                                                                                                                                                                                                                                                                                                                                                                                                                                                                                                                                                                                                                                                                                                                                                            ... \n",
       "5 nights minimum stay, no smoking or pets.                                                                                                                                                                                                                                                                                                                                                                                                                                                                                                                                                                                                                                                                                                                                                                                                                                                                                                                                                                                                     1\n",
       "4 nights minimum stay No pets at any time No smoking Please be mindful of the furniture and personal belongings, it was all furnished with designer pieces and hard to replace things.                                                                                                                                                                                                                                                                                                                                                                                                                                                                                                                                                                                                                                                                                                                                                                                                                                                         1\n",
       "- Quiet time after 13                                                                                                                                                                                                                                                                                                                                                                                                                                                                                                                                                                                                                                                                                                                                                                                                                                                                                                                                                                                                                          1\n",
       "7 star treatment is given and expected.                                                                                                                                                                                                                                                                                                                                                                                                                                                                                                                                                                                                                                                                                                                                                                                                                                                                                                                                                                                                        1\n",
       "16 nights minimum stay, no smoking or pets.                                                                                                                                                                                                                                                                                                                                                                                                                                                                                                                                                                                                                                                                                                                                                                                                                                                                                                                                                                                                    1\n",
       "Name: house_rules, Length: 1976, dtype: int64"
      ]
     },
     "execution_count": 53,
     "metadata": {},
     "output_type": "execute_result"
    }
   ],
   "source": [
    "df['house_rules'].value_counts()"
   ]
  },
  {
   "cell_type": "code",
   "execution_count": 54,
   "id": "685765f3",
   "metadata": {},
   "outputs": [
    {
     "data": {
      "text/plain": [
       "41662/AL    2\n",
       "Name: license, dtype: int64"
      ]
     },
     "execution_count": 54,
     "metadata": {},
     "output_type": "execute_result"
    }
   ],
   "source": [
    "df['license'].value_counts()"
   ]
  },
  {
   "cell_type": "markdown",
   "id": "4093a65d",
   "metadata": {},
   "source": [
    "Ketentuan 2 Dictionary"
   ]
  },
  {
   "cell_type": "code",
   "execution_count": 100,
   "id": "49dd1fba",
   "metadata": {},
   "outputs": [],
   "source": [
    "dictionary = {'NAME':\"Home Sweet Home, Brooklyn Apartment, Hillside Hotel, Water View King Bed Hotel Room, New york Multi-unit building\", \n",
    "              \n",
    "              'country':\"United States, United States, United States, United States, United States\", \n",
    "              \n",
    "              'price':\"$50, $40, $45, $35, $60\", \n",
    "              \n",
    "              'room type':\"General, Private, Private, General, General\", \n",
    "              \n",
    "              'neighboorhood':\"Harlem, Rossville, Lighthouse Hill, Fort Wadsworth, Glen Oaks\" }"
   ]
  },
  {
   "cell_type": "code",
   "execution_count": 101,
   "id": "7d12d288",
   "metadata": {},
   "outputs": [
    {
     "data": {
      "text/plain": [
       "{'NAME': 'Home Sweet Home, Brooklyn Apartment, Hillside Hotel, Water View King Bed Hotel Room, New york Multi-unit building',\n",
       " 'country': 'United States, United States, United States, United States, United States',\n",
       " 'price': '$50, $40, $45, $35, $60',\n",
       " 'room type': 'General, Private, Private, General, General',\n",
       " 'neighboorhood': 'Harlem, Rossville, Lighthouse Hill, Fort Wadsworth, Glen Oaks'}"
      ]
     },
     "execution_count": 101,
     "metadata": {},
     "output_type": "execute_result"
    }
   ],
   "source": [
    "dictionary"
   ]
  },
  {
   "cell_type": "code",
   "execution_count": null,
   "id": "37c74dc3",
   "metadata": {},
   "outputs": [],
   "source": []
  },
  {
   "cell_type": "markdown",
   "id": "4fae64a7",
   "metadata": {},
   "source": [
    "Ketentuan 3 Rata-rata, dll"
   ]
  },
  {
   "cell_type": "code",
   "execution_count": 105,
   "id": "cad18ee0",
   "metadata": {},
   "outputs": [
    {
     "data": {
      "text/plain": [
       "count    1.025990e+05\n",
       "mean     2.914623e+07\n",
       "std      1.625751e+07\n",
       "min      1.001254e+06\n",
       "25%      1.508581e+07\n",
       "50%      2.913660e+07\n",
       "75%      4.320120e+07\n",
       "max      5.736742e+07\n",
       "Name: id, dtype: float64"
      ]
     },
     "execution_count": 105,
     "metadata": {},
     "output_type": "execute_result"
    }
   ],
   "source": [
    "df['id'].describe()"
   ]
  },
  {
   "cell_type": "code",
   "execution_count": 106,
   "id": "5e4f5d84",
   "metadata": {},
   "outputs": [
    {
     "data": {
      "text/plain": [
       "count    1.025990e+05\n",
       "mean     4.925411e+10\n",
       "std      2.853900e+10\n",
       "min      1.236005e+08\n",
       "25%      2.458333e+10\n",
       "50%      4.911774e+10\n",
       "75%      7.399650e+10\n",
       "max      9.876313e+10\n",
       "Name: host id, dtype: float64"
      ]
     },
     "execution_count": 106,
     "metadata": {},
     "output_type": "execute_result"
    }
   ],
   "source": [
    "df['host id'].describe()"
   ]
  },
  {
   "cell_type": "code",
   "execution_count": 107,
   "id": "8907b65c",
   "metadata": {},
   "outputs": [
    {
     "data": {
      "text/plain": [
       "count    102591.000000\n",
       "mean         40.728094\n",
       "std           0.055857\n",
       "min          40.499790\n",
       "25%          40.688740\n",
       "50%          40.722290\n",
       "75%          40.762760\n",
       "max          40.916970\n",
       "Name: lat, dtype: float64"
      ]
     },
     "execution_count": 107,
     "metadata": {},
     "output_type": "execute_result"
    }
   ],
   "source": [
    "df['lat'].describe()"
   ]
  },
  {
   "cell_type": "code",
   "execution_count": 108,
   "id": "744859f0",
   "metadata": {},
   "outputs": [
    {
     "data": {
      "text/plain": [
       "count    102591.000000\n",
       "mean        -73.949644\n",
       "std           0.049521\n",
       "min         -74.249840\n",
       "25%         -73.982580\n",
       "50%         -73.954440\n",
       "75%         -73.932350\n",
       "max         -73.705220\n",
       "Name: long, dtype: float64"
      ]
     },
     "execution_count": 108,
     "metadata": {},
     "output_type": "execute_result"
    }
   ],
   "source": [
    "df['long'].describe()"
   ]
  },
  {
   "cell_type": "code",
   "execution_count": 109,
   "id": "3ae2892c",
   "metadata": {},
   "outputs": [
    {
     "data": {
      "text/plain": [
       "count    102385.000000\n",
       "mean       2012.487464\n",
       "std           5.765556\n",
       "min        2003.000000\n",
       "25%        2007.000000\n",
       "50%        2012.000000\n",
       "75%        2017.000000\n",
       "max        2022.000000\n",
       "Name: Construction year, dtype: float64"
      ]
     },
     "execution_count": 109,
     "metadata": {},
     "output_type": "execute_result"
    }
   ],
   "source": [
    "df['Construction year'].describe()"
   ]
  },
  {
   "cell_type": "code",
   "execution_count": 110,
   "id": "da8f8347",
   "metadata": {},
   "outputs": [
    {
     "data": {
      "text/plain": [
       "count    102190.000000\n",
       "mean          8.135845\n",
       "std          30.553781\n",
       "min       -1223.000000\n",
       "25%           2.000000\n",
       "50%           3.000000\n",
       "75%           5.000000\n",
       "max        5645.000000\n",
       "Name: minimum nights, dtype: float64"
      ]
     },
     "execution_count": 110,
     "metadata": {},
     "output_type": "execute_result"
    }
   ],
   "source": [
    "df['minimum nights'].describe()"
   ]
  },
  {
   "cell_type": "code",
   "execution_count": 111,
   "id": "92423049",
   "metadata": {},
   "outputs": [
    {
     "data": {
      "text/plain": [
       "count    102416.000000\n",
       "mean         27.483743\n",
       "std          49.508954\n",
       "min           0.000000\n",
       "25%           1.000000\n",
       "50%           7.000000\n",
       "75%          30.000000\n",
       "max        1024.000000\n",
       "Name: number of reviews, dtype: float64"
      ]
     },
     "execution_count": 111,
     "metadata": {},
     "output_type": "execute_result"
    }
   ],
   "source": [
    "df['number of reviews'].describe()"
   ]
  },
  {
   "cell_type": "code",
   "execution_count": 116,
   "id": "243ea350",
   "metadata": {},
   "outputs": [
    {
     "data": {
      "text/plain": [
       "count    86720.000000\n",
       "mean         1.374022\n",
       "std          1.746621\n",
       "min          0.010000\n",
       "25%          0.220000\n",
       "50%          0.740000\n",
       "75%          2.000000\n",
       "max         90.000000\n",
       "Name: reviews per month, dtype: float64"
      ]
     },
     "execution_count": 116,
     "metadata": {},
     "output_type": "execute_result"
    }
   ],
   "source": [
    "df['reviews per month'].describe()"
   ]
  },
  {
   "cell_type": "code",
   "execution_count": 113,
   "id": "4440aee2",
   "metadata": {},
   "outputs": [
    {
     "data": {
      "text/plain": [
       "count    102273.000000\n",
       "mean          3.279106\n",
       "std           1.284657\n",
       "min           1.000000\n",
       "25%           2.000000\n",
       "50%           3.000000\n",
       "75%           4.000000\n",
       "max           5.000000\n",
       "Name: review rate number, dtype: float64"
      ]
     },
     "execution_count": 113,
     "metadata": {},
     "output_type": "execute_result"
    }
   ],
   "source": [
    "df['review rate number'].describe()"
   ]
  },
  {
   "cell_type": "code",
   "execution_count": 115,
   "id": "441160e1",
   "metadata": {},
   "outputs": [
    {
     "data": {
      "text/plain": [
       "count    102280.000000\n",
       "mean          7.936605\n",
       "std          32.218780\n",
       "min           1.000000\n",
       "25%           1.000000\n",
       "50%           1.000000\n",
       "75%           2.000000\n",
       "max         332.000000\n",
       "Name: calculated host listings count, dtype: float64"
      ]
     },
     "execution_count": 115,
     "metadata": {},
     "output_type": "execute_result"
    }
   ],
   "source": [
    "df['calculated host listings count'].describe()"
   ]
  },
  {
   "cell_type": "code",
   "execution_count": 117,
   "id": "ab7d2488",
   "metadata": {},
   "outputs": [
    {
     "data": {
      "text/plain": [
       "count    102151.000000\n",
       "mean        141.133254\n",
       "std         135.435024\n",
       "min         -10.000000\n",
       "25%           3.000000\n",
       "50%          96.000000\n",
       "75%         269.000000\n",
       "max        3677.000000\n",
       "Name: availability 365, dtype: float64"
      ]
     },
     "execution_count": 117,
     "metadata": {},
     "output_type": "execute_result"
    }
   ],
   "source": [
    "df['availability 365'].describe()"
   ]
  },
  {
   "cell_type": "markdown",
   "id": "1c32b8e9",
   "metadata": {},
   "source": [
    "Ketentuan 4 Korelasi"
   ]
  },
  {
   "cell_type": "code",
   "execution_count": 119,
   "id": "cdf9b0fd",
   "metadata": {},
   "outputs": [
    {
     "data": {
      "text/html": [
       "<div>\n",
       "<style scoped>\n",
       "    .dataframe tbody tr th:only-of-type {\n",
       "        vertical-align: middle;\n",
       "    }\n",
       "\n",
       "    .dataframe tbody tr th {\n",
       "        vertical-align: top;\n",
       "    }\n",
       "\n",
       "    .dataframe thead th {\n",
       "        text-align: right;\n",
       "    }\n",
       "</style>\n",
       "<table border=\"1\" class=\"dataframe\">\n",
       "  <thead>\n",
       "    <tr style=\"text-align: right;\">\n",
       "      <th></th>\n",
       "      <th>id</th>\n",
       "      <th>host id</th>\n",
       "      <th>lat</th>\n",
       "      <th>long</th>\n",
       "      <th>Construction year</th>\n",
       "      <th>minimum nights</th>\n",
       "      <th>number of reviews</th>\n",
       "      <th>reviews per month</th>\n",
       "      <th>review rate number</th>\n",
       "      <th>calculated host listings count</th>\n",
       "      <th>availability 365</th>\n",
       "    </tr>\n",
       "  </thead>\n",
       "  <tbody>\n",
       "    <tr>\n",
       "      <th>id</th>\n",
       "      <td>1.000000</td>\n",
       "      <td>-0.000830</td>\n",
       "      <td>-0.008832</td>\n",
       "      <td>0.042546</td>\n",
       "      <td>0.001081</td>\n",
       "      <td>0.005668</td>\n",
       "      <td>-0.041530</td>\n",
       "      <td>0.038038</td>\n",
       "      <td>0.036633</td>\n",
       "      <td>0.024296</td>\n",
       "      <td>-0.139226</td>\n",
       "    </tr>\n",
       "    <tr>\n",
       "      <th>host id</th>\n",
       "      <td>-0.000830</td>\n",
       "      <td>1.000000</td>\n",
       "      <td>0.000661</td>\n",
       "      <td>-0.008999</td>\n",
       "      <td>0.004871</td>\n",
       "      <td>-0.002266</td>\n",
       "      <td>-0.004503</td>\n",
       "      <td>-0.001746</td>\n",
       "      <td>0.003459</td>\n",
       "      <td>0.001722</td>\n",
       "      <td>-0.002044</td>\n",
       "    </tr>\n",
       "    <tr>\n",
       "      <th>lat</th>\n",
       "      <td>-0.008832</td>\n",
       "      <td>0.000661</td>\n",
       "      <td>1.000000</td>\n",
       "      <td>0.074348</td>\n",
       "      <td>0.005697</td>\n",
       "      <td>0.014889</td>\n",
       "      <td>-0.025236</td>\n",
       "      <td>-0.019492</td>\n",
       "      <td>-0.003917</td>\n",
       "      <td>0.032468</td>\n",
       "      <td>-0.005011</td>\n",
       "    </tr>\n",
       "    <tr>\n",
       "      <th>long</th>\n",
       "      <td>0.042546</td>\n",
       "      <td>-0.008999</td>\n",
       "      <td>0.074348</td>\n",
       "      <td>1.000000</td>\n",
       "      <td>0.000861</td>\n",
       "      <td>-0.039639</td>\n",
       "      <td>0.069169</td>\n",
       "      <td>0.118598</td>\n",
       "      <td>0.015283</td>\n",
       "      <td>-0.104154</td>\n",
       "      <td>0.058428</td>\n",
       "    </tr>\n",
       "    <tr>\n",
       "      <th>Construction year</th>\n",
       "      <td>0.001081</td>\n",
       "      <td>0.004871</td>\n",
       "      <td>0.005697</td>\n",
       "      <td>0.000861</td>\n",
       "      <td>1.000000</td>\n",
       "      <td>-0.000486</td>\n",
       "      <td>0.001990</td>\n",
       "      <td>0.004092</td>\n",
       "      <td>0.004753</td>\n",
       "      <td>-0.002745</td>\n",
       "      <td>-0.008264</td>\n",
       "    </tr>\n",
       "    <tr>\n",
       "      <th>minimum nights</th>\n",
       "      <td>0.005668</td>\n",
       "      <td>-0.002266</td>\n",
       "      <td>0.014889</td>\n",
       "      <td>-0.039639</td>\n",
       "      <td>-0.000486</td>\n",
       "      <td>1.000000</td>\n",
       "      <td>-0.049997</td>\n",
       "      <td>-0.096141</td>\n",
       "      <td>-0.002167</td>\n",
       "      <td>0.084846</td>\n",
       "      <td>0.063541</td>\n",
       "    </tr>\n",
       "    <tr>\n",
       "      <th>number of reviews</th>\n",
       "      <td>-0.041530</td>\n",
       "      <td>-0.004503</td>\n",
       "      <td>-0.025236</td>\n",
       "      <td>0.069169</td>\n",
       "      <td>0.001990</td>\n",
       "      <td>-0.049997</td>\n",
       "      <td>1.000000</td>\n",
       "      <td>0.590939</td>\n",
       "      <td>-0.018412</td>\n",
       "      <td>-0.080907</td>\n",
       "      <td>0.099368</td>\n",
       "    </tr>\n",
       "    <tr>\n",
       "      <th>reviews per month</th>\n",
       "      <td>0.038038</td>\n",
       "      <td>-0.001746</td>\n",
       "      <td>-0.019492</td>\n",
       "      <td>0.118598</td>\n",
       "      <td>0.004092</td>\n",
       "      <td>-0.096141</td>\n",
       "      <td>0.590939</td>\n",
       "      <td>1.000000</td>\n",
       "      <td>0.037526</td>\n",
       "      <td>-0.025621</td>\n",
       "      <td>0.077193</td>\n",
       "    </tr>\n",
       "    <tr>\n",
       "      <th>review rate number</th>\n",
       "      <td>0.036633</td>\n",
       "      <td>0.003459</td>\n",
       "      <td>-0.003917</td>\n",
       "      <td>0.015283</td>\n",
       "      <td>0.004753</td>\n",
       "      <td>-0.002167</td>\n",
       "      <td>-0.018412</td>\n",
       "      <td>0.037526</td>\n",
       "      <td>1.000000</td>\n",
       "      <td>0.024273</td>\n",
       "      <td>-0.006217</td>\n",
       "    </tr>\n",
       "    <tr>\n",
       "      <th>calculated host listings count</th>\n",
       "      <td>0.024296</td>\n",
       "      <td>0.001722</td>\n",
       "      <td>0.032468</td>\n",
       "      <td>-0.104154</td>\n",
       "      <td>-0.002745</td>\n",
       "      <td>0.084846</td>\n",
       "      <td>-0.080907</td>\n",
       "      <td>-0.025621</td>\n",
       "      <td>0.024273</td>\n",
       "      <td>1.000000</td>\n",
       "      <td>0.159194</td>\n",
       "    </tr>\n",
       "    <tr>\n",
       "      <th>availability 365</th>\n",
       "      <td>-0.139226</td>\n",
       "      <td>-0.002044</td>\n",
       "      <td>-0.005011</td>\n",
       "      <td>0.058428</td>\n",
       "      <td>-0.008264</td>\n",
       "      <td>0.063541</td>\n",
       "      <td>0.099368</td>\n",
       "      <td>0.077193</td>\n",
       "      <td>-0.006217</td>\n",
       "      <td>0.159194</td>\n",
       "      <td>1.000000</td>\n",
       "    </tr>\n",
       "  </tbody>\n",
       "</table>\n",
       "</div>"
      ],
      "text/plain": [
       "                                      id   host id       lat      long  \\\n",
       "id                              1.000000 -0.000830 -0.008832  0.042546   \n",
       "host id                        -0.000830  1.000000  0.000661 -0.008999   \n",
       "lat                            -0.008832  0.000661  1.000000  0.074348   \n",
       "long                            0.042546 -0.008999  0.074348  1.000000   \n",
       "Construction year               0.001081  0.004871  0.005697  0.000861   \n",
       "minimum nights                  0.005668 -0.002266  0.014889 -0.039639   \n",
       "number of reviews              -0.041530 -0.004503 -0.025236  0.069169   \n",
       "reviews per month               0.038038 -0.001746 -0.019492  0.118598   \n",
       "review rate number              0.036633  0.003459 -0.003917  0.015283   \n",
       "calculated host listings count  0.024296  0.001722  0.032468 -0.104154   \n",
       "availability 365               -0.139226 -0.002044 -0.005011  0.058428   \n",
       "\n",
       "                                Construction year  minimum nights  \\\n",
       "id                                       0.001081        0.005668   \n",
       "host id                                  0.004871       -0.002266   \n",
       "lat                                      0.005697        0.014889   \n",
       "long                                     0.000861       -0.039639   \n",
       "Construction year                        1.000000       -0.000486   \n",
       "minimum nights                          -0.000486        1.000000   \n",
       "number of reviews                        0.001990       -0.049997   \n",
       "reviews per month                        0.004092       -0.096141   \n",
       "review rate number                       0.004753       -0.002167   \n",
       "calculated host listings count          -0.002745        0.084846   \n",
       "availability 365                        -0.008264        0.063541   \n",
       "\n",
       "                                number of reviews  reviews per month  \\\n",
       "id                                      -0.041530           0.038038   \n",
       "host id                                 -0.004503          -0.001746   \n",
       "lat                                     -0.025236          -0.019492   \n",
       "long                                     0.069169           0.118598   \n",
       "Construction year                        0.001990           0.004092   \n",
       "minimum nights                          -0.049997          -0.096141   \n",
       "number of reviews                        1.000000           0.590939   \n",
       "reviews per month                        0.590939           1.000000   \n",
       "review rate number                      -0.018412           0.037526   \n",
       "calculated host listings count          -0.080907          -0.025621   \n",
       "availability 365                         0.099368           0.077193   \n",
       "\n",
       "                                review rate number  \\\n",
       "id                                        0.036633   \n",
       "host id                                   0.003459   \n",
       "lat                                      -0.003917   \n",
       "long                                      0.015283   \n",
       "Construction year                         0.004753   \n",
       "minimum nights                           -0.002167   \n",
       "number of reviews                        -0.018412   \n",
       "reviews per month                         0.037526   \n",
       "review rate number                        1.000000   \n",
       "calculated host listings count            0.024273   \n",
       "availability 365                         -0.006217   \n",
       "\n",
       "                                calculated host listings count  \\\n",
       "id                                                    0.024296   \n",
       "host id                                               0.001722   \n",
       "lat                                                   0.032468   \n",
       "long                                                 -0.104154   \n",
       "Construction year                                    -0.002745   \n",
       "minimum nights                                        0.084846   \n",
       "number of reviews                                    -0.080907   \n",
       "reviews per month                                    -0.025621   \n",
       "review rate number                                    0.024273   \n",
       "calculated host listings count                        1.000000   \n",
       "availability 365                                      0.159194   \n",
       "\n",
       "                                availability 365  \n",
       "id                                     -0.139226  \n",
       "host id                                -0.002044  \n",
       "lat                                    -0.005011  \n",
       "long                                    0.058428  \n",
       "Construction year                      -0.008264  \n",
       "minimum nights                          0.063541  \n",
       "number of reviews                       0.099368  \n",
       "reviews per month                       0.077193  \n",
       "review rate number                     -0.006217  \n",
       "calculated host listings count          0.159194  \n",
       "availability 365                        1.000000  "
      ]
     },
     "execution_count": 119,
     "metadata": {},
     "output_type": "execute_result"
    }
   ],
   "source": [
    "df.corr()"
   ]
  },
  {
   "cell_type": "markdown",
   "id": "a93f281a",
   "metadata": {},
   "source": [
    "Ketentuan 5 Merubah nilai angka"
   ]
  },
  {
   "cell_type": "code",
   "execution_count": 121,
   "id": "c181f904",
   "metadata": {},
   "outputs": [
    {
     "data": {
      "text/plain": [
       "0.03    1666\n",
       "0.05    1490\n",
       "1.00    1455\n",
       "0.04    1270\n",
       "0.09    1269\n",
       "0.08    1259\n",
       "0.16    1258\n",
       "0.06    1193\n",
       "0.02    1164\n",
       "0.11    1141\n",
       "Name: reviews per month, dtype: int64"
      ]
     },
     "execution_count": 121,
     "metadata": {},
     "output_type": "execute_result"
    }
   ],
   "source": [
    "df['reviews per month'].value_counts().head(10)"
   ]
  },
  {
   "cell_type": "code",
   "execution_count": 128,
   "id": "4fe8313a",
   "metadata": {},
   "outputs": [
    {
     "data": {
      "text/plain": [
       "0.03    1.666\n",
       "0.05    1.490\n",
       "1.00    1.455\n",
       "0.04    1.270\n",
       "0.09    1.269\n",
       "0.08    1.259\n",
       "0.16    1.258\n",
       "0.06    1.193\n",
       "0.02    1.164\n",
       "0.11    1.141\n",
       "Name: reviews per month, dtype: float64"
      ]
     },
     "execution_count": 128,
     "metadata": {},
     "output_type": "execute_result"
    }
   ],
   "source": [
    "df['reviews per month'].value_counts().head(10)/1000"
   ]
  },
  {
   "cell_type": "markdown",
   "id": "9951c087",
   "metadata": {},
   "source": [
    "Ketentuan 6 10 data pertama untuk data angka"
   ]
  },
  {
   "cell_type": "code",
   "execution_count": 133,
   "id": "319277ec",
   "metadata": {},
   "outputs": [],
   "source": [
    "dfnumber = df.select_dtypes(include=np.number)"
   ]
  },
  {
   "cell_type": "code",
   "execution_count": 134,
   "id": "45817bf4",
   "metadata": {},
   "outputs": [
    {
     "data": {
      "text/html": [
       "<div>\n",
       "<style scoped>\n",
       "    .dataframe tbody tr th:only-of-type {\n",
       "        vertical-align: middle;\n",
       "    }\n",
       "\n",
       "    .dataframe tbody tr th {\n",
       "        vertical-align: top;\n",
       "    }\n",
       "\n",
       "    .dataframe thead th {\n",
       "        text-align: right;\n",
       "    }\n",
       "</style>\n",
       "<table border=\"1\" class=\"dataframe\">\n",
       "  <thead>\n",
       "    <tr style=\"text-align: right;\">\n",
       "      <th></th>\n",
       "      <th>id</th>\n",
       "      <th>host id</th>\n",
       "      <th>lat</th>\n",
       "      <th>long</th>\n",
       "      <th>Construction year</th>\n",
       "      <th>minimum nights</th>\n",
       "      <th>number of reviews</th>\n",
       "      <th>reviews per month</th>\n",
       "      <th>review rate number</th>\n",
       "      <th>calculated host listings count</th>\n",
       "      <th>availability 365</th>\n",
       "    </tr>\n",
       "  </thead>\n",
       "  <tbody>\n",
       "    <tr>\n",
       "      <th>0</th>\n",
       "      <td>1001254</td>\n",
       "      <td>80014485718</td>\n",
       "      <td>40.64749</td>\n",
       "      <td>-73.97237</td>\n",
       "      <td>2020.0</td>\n",
       "      <td>10.0</td>\n",
       "      <td>9.0</td>\n",
       "      <td>0.21</td>\n",
       "      <td>4.0</td>\n",
       "      <td>6.0</td>\n",
       "      <td>286.0</td>\n",
       "    </tr>\n",
       "    <tr>\n",
       "      <th>1</th>\n",
       "      <td>1002102</td>\n",
       "      <td>52335172823</td>\n",
       "      <td>40.75362</td>\n",
       "      <td>-73.98377</td>\n",
       "      <td>2007.0</td>\n",
       "      <td>30.0</td>\n",
       "      <td>45.0</td>\n",
       "      <td>0.38</td>\n",
       "      <td>4.0</td>\n",
       "      <td>2.0</td>\n",
       "      <td>228.0</td>\n",
       "    </tr>\n",
       "    <tr>\n",
       "      <th>2</th>\n",
       "      <td>1002403</td>\n",
       "      <td>78829239556</td>\n",
       "      <td>40.80902</td>\n",
       "      <td>-73.94190</td>\n",
       "      <td>2005.0</td>\n",
       "      <td>3.0</td>\n",
       "      <td>0.0</td>\n",
       "      <td>NaN</td>\n",
       "      <td>5.0</td>\n",
       "      <td>1.0</td>\n",
       "      <td>352.0</td>\n",
       "    </tr>\n",
       "    <tr>\n",
       "      <th>3</th>\n",
       "      <td>1002755</td>\n",
       "      <td>85098326012</td>\n",
       "      <td>40.68514</td>\n",
       "      <td>-73.95976</td>\n",
       "      <td>2005.0</td>\n",
       "      <td>30.0</td>\n",
       "      <td>270.0</td>\n",
       "      <td>4.64</td>\n",
       "      <td>4.0</td>\n",
       "      <td>1.0</td>\n",
       "      <td>322.0</td>\n",
       "    </tr>\n",
       "    <tr>\n",
       "      <th>4</th>\n",
       "      <td>1003689</td>\n",
       "      <td>92037596077</td>\n",
       "      <td>40.79851</td>\n",
       "      <td>-73.94399</td>\n",
       "      <td>2009.0</td>\n",
       "      <td>10.0</td>\n",
       "      <td>9.0</td>\n",
       "      <td>0.10</td>\n",
       "      <td>3.0</td>\n",
       "      <td>1.0</td>\n",
       "      <td>289.0</td>\n",
       "    </tr>\n",
       "    <tr>\n",
       "      <th>5</th>\n",
       "      <td>1004098</td>\n",
       "      <td>45498551794</td>\n",
       "      <td>40.74767</td>\n",
       "      <td>-73.97500</td>\n",
       "      <td>2013.0</td>\n",
       "      <td>3.0</td>\n",
       "      <td>74.0</td>\n",
       "      <td>0.59</td>\n",
       "      <td>3.0</td>\n",
       "      <td>1.0</td>\n",
       "      <td>374.0</td>\n",
       "    </tr>\n",
       "    <tr>\n",
       "      <th>6</th>\n",
       "      <td>1004650</td>\n",
       "      <td>61300605564</td>\n",
       "      <td>40.68688</td>\n",
       "      <td>-73.95596</td>\n",
       "      <td>2015.0</td>\n",
       "      <td>45.0</td>\n",
       "      <td>49.0</td>\n",
       "      <td>0.40</td>\n",
       "      <td>5.0</td>\n",
       "      <td>1.0</td>\n",
       "      <td>224.0</td>\n",
       "    </tr>\n",
       "    <tr>\n",
       "      <th>7</th>\n",
       "      <td>1005202</td>\n",
       "      <td>90821839709</td>\n",
       "      <td>40.68688</td>\n",
       "      <td>-73.95596</td>\n",
       "      <td>2009.0</td>\n",
       "      <td>45.0</td>\n",
       "      <td>49.0</td>\n",
       "      <td>0.40</td>\n",
       "      <td>5.0</td>\n",
       "      <td>1.0</td>\n",
       "      <td>219.0</td>\n",
       "    </tr>\n",
       "    <tr>\n",
       "      <th>8</th>\n",
       "      <td>1005754</td>\n",
       "      <td>79384379533</td>\n",
       "      <td>40.76489</td>\n",
       "      <td>-73.98493</td>\n",
       "      <td>2005.0</td>\n",
       "      <td>2.0</td>\n",
       "      <td>430.0</td>\n",
       "      <td>3.47</td>\n",
       "      <td>3.0</td>\n",
       "      <td>1.0</td>\n",
       "      <td>180.0</td>\n",
       "    </tr>\n",
       "    <tr>\n",
       "      <th>9</th>\n",
       "      <td>1006307</td>\n",
       "      <td>75527839483</td>\n",
       "      <td>40.80178</td>\n",
       "      <td>-73.96723</td>\n",
       "      <td>2015.0</td>\n",
       "      <td>2.0</td>\n",
       "      <td>118.0</td>\n",
       "      <td>0.99</td>\n",
       "      <td>5.0</td>\n",
       "      <td>1.0</td>\n",
       "      <td>375.0</td>\n",
       "    </tr>\n",
       "  </tbody>\n",
       "</table>\n",
       "</div>"
      ],
      "text/plain": [
       "        id      host id       lat      long  Construction year  \\\n",
       "0  1001254  80014485718  40.64749 -73.97237             2020.0   \n",
       "1  1002102  52335172823  40.75362 -73.98377             2007.0   \n",
       "2  1002403  78829239556  40.80902 -73.94190             2005.0   \n",
       "3  1002755  85098326012  40.68514 -73.95976             2005.0   \n",
       "4  1003689  92037596077  40.79851 -73.94399             2009.0   \n",
       "5  1004098  45498551794  40.74767 -73.97500             2013.0   \n",
       "6  1004650  61300605564  40.68688 -73.95596             2015.0   \n",
       "7  1005202  90821839709  40.68688 -73.95596             2009.0   \n",
       "8  1005754  79384379533  40.76489 -73.98493             2005.0   \n",
       "9  1006307  75527839483  40.80178 -73.96723             2015.0   \n",
       "\n",
       "   minimum nights  number of reviews  reviews per month  review rate number  \\\n",
       "0            10.0                9.0               0.21                 4.0   \n",
       "1            30.0               45.0               0.38                 4.0   \n",
       "2             3.0                0.0                NaN                 5.0   \n",
       "3            30.0              270.0               4.64                 4.0   \n",
       "4            10.0                9.0               0.10                 3.0   \n",
       "5             3.0               74.0               0.59                 3.0   \n",
       "6            45.0               49.0               0.40                 5.0   \n",
       "7            45.0               49.0               0.40                 5.0   \n",
       "8             2.0              430.0               3.47                 3.0   \n",
       "9             2.0              118.0               0.99                 5.0   \n",
       "\n",
       "   calculated host listings count  availability 365  \n",
       "0                             6.0             286.0  \n",
       "1                             2.0             228.0  \n",
       "2                             1.0             352.0  \n",
       "3                             1.0             322.0  \n",
       "4                             1.0             289.0  \n",
       "5                             1.0             374.0  \n",
       "6                             1.0             224.0  \n",
       "7                             1.0             219.0  \n",
       "8                             1.0             180.0  \n",
       "9                             1.0             375.0  "
      ]
     },
     "execution_count": 134,
     "metadata": {},
     "output_type": "execute_result"
    }
   ],
   "source": [
    "dfnumber.head(10)"
   ]
  },
  {
   "cell_type": "markdown",
   "id": "4392e44a",
   "metadata": {},
   "source": [
    "Ketentuan 7 menyimpan dataset kedalam csv"
   ]
  },
  {
   "cell_type": "code",
   "execution_count": 135,
   "id": "6038a0f3",
   "metadata": {},
   "outputs": [],
   "source": [
    "dfnumber.to_csv('dataset_angka.csv', index=False)"
   ]
  },
  {
   "cell_type": "code",
   "execution_count": null,
   "id": "ec698d77",
   "metadata": {},
   "outputs": [],
   "source": []
  }
 ],
 "metadata": {
  "kernelspec": {
   "display_name": "Python 3 (ipykernel)",
   "language": "python",
   "name": "python3"
  },
  "language_info": {
   "codemirror_mode": {
    "name": "ipython",
    "version": 3
   },
   "file_extension": ".py",
   "mimetype": "text/x-python",
   "name": "python",
   "nbconvert_exporter": "python",
   "pygments_lexer": "ipython3",
   "version": "3.10.7"
  }
 },
 "nbformat": 4,
 "nbformat_minor": 5
}
