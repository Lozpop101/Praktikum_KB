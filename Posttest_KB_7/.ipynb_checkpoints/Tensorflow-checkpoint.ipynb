{
 "cells": [
  {
   "cell_type": "markdown",
   "id": "9cbca807",
   "metadata": {},
   "source": [
    "## Dwi Ageng Rohmatullah\n",
    "## 2009106005\n",
    "## Posttest 7"
   ]
  },
  {
   "cell_type": "code",
   "execution_count": 1,
   "id": "69a55fa3",
   "metadata": {},
   "outputs": [],
   "source": [
    "import tensorflow as tf"
   ]
  },
  {
   "cell_type": "markdown",
   "id": "dadce496",
   "metadata": {},
   "source": [
    "# Random Tensor"
   ]
  },
  {
   "cell_type": "code",
   "execution_count": 2,
   "id": "217030e8",
   "metadata": {},
   "outputs": [
    {
     "name": "stdout",
     "output_type": "stream",
     "text": [
      "tf.Tensor(\n",
      "[[ 8.865948   9.112633  10.919816  10.046799   7.9363046]\n",
      " [10.028195  10.381554  10.696706   9.687963  11.20199  ]\n",
      " [ 8.839433  10.918514  10.332897   7.442403  11.039174 ]\n",
      " [10.322048  11.135388   9.047853   8.518225   9.982552 ]\n",
      " [10.836257   9.555759  10.527232  10.312455  10.034539 ]], shape=(5, 5), dtype=float32)\n"
     ]
    }
   ],
   "source": [
    "random_tensor = tf.random.normal([5,5], mean = 10)\n",
    "print(random_tensor)"
   ]
  },
  {
   "cell_type": "markdown",
   "id": "ce5a283b",
   "metadata": {},
   "source": [
    "# Prime Tensor\n",
    "\n",
    "### Dengan menggunakan list"
   ]
  },
  {
   "cell_type": "code",
   "execution_count": 3,
   "id": "d6340205",
   "metadata": {},
   "outputs": [
    {
     "data": {
      "text/plain": [
       "<tf.Tensor: shape=(5, 5), dtype=float32, numpy=\n",
       "array([[ 2.,  3.,  5.,  7., 11.],\n",
       "       [13., 17., 19., 23., 29.],\n",
       "       [31., 37., 41., 43., 47.],\n",
       "       [53., 59., 61., 67., 71.],\n",
       "       [73., 79., 83., 89., 97.]], dtype=float32)>"
      ]
     },
     "execution_count": 3,
     "metadata": {},
     "output_type": "execute_result"
    }
   ],
   "source": [
    "prime = [[2,3,5,7,11], [13,17,19,23,29], [31,37,41,43,47], [53,59,61,67,71], [73,79,83,89,97]]\n",
    "\n",
    "prime_tensor = tf.convert_to_tensor(prime, dtype=tf.float32)\n",
    "\n",
    "prime_tensor"
   ]
  },
  {
   "cell_type": "markdown",
   "id": "2e765ef6",
   "metadata": {},
   "source": [
    "# Dimension Display"
   ]
  },
  {
   "cell_type": "code",
   "execution_count": 29,
   "id": "4b46961b",
   "metadata": {},
   "outputs": [
    {
     "name": "stdout",
     "output_type": "stream",
     "text": [
      "(5, 5)\n"
     ]
    }
   ],
   "source": [
    "print(random_tensor.get_shape())"
   ]
  },
  {
   "cell_type": "code",
   "execution_count": 5,
   "id": "b4de757c",
   "metadata": {},
   "outputs": [
    {
     "name": "stdout",
     "output_type": "stream",
     "text": [
      "(5, 5)\n"
     ]
    }
   ],
   "source": [
    "print(prime_tensor.shape)"
   ]
  },
  {
   "cell_type": "markdown",
   "id": "ca1dbb57",
   "metadata": {},
   "source": [
    "# Arithmetic Operations"
   ]
  },
  {
   "cell_type": "code",
   "execution_count": 6,
   "id": "49d98269",
   "metadata": {},
   "outputs": [
    {
     "name": "stdout",
     "output_type": "stream",
     "text": [
      "tf.Tensor(\n",
      "[[ 283.46683  287.02356  284.72876  259.43408  284.93225]\n",
      " [1005.3445  1035.6334  1033.517    931.68976 1023.95044]\n",
      " [1961.4564  2042.2106  2041.7788  1826.013   2013.9783 ]\n",
      " [3061.7156  3186.0405  3193.8025  2860.9622  3136.2146 ]\n",
      " [4142.8936  4309.56    4326.2173  3874.915   4242.356  ]], shape=(5, 5), dtype=float32)\n"
     ]
    }
   ],
   "source": [
    "print(tf.matmul(prime_tensor,random_tensor))"
   ]
  },
  {
   "cell_type": "code",
   "execution_count": 7,
   "id": "d2c786e4",
   "metadata": {},
   "outputs": [
    {
     "name": "stdout",
     "output_type": "stream",
     "text": [
      "tf.Tensor(\n",
      "[[ 10.865948  12.112633  15.919816  17.046799  18.936304]\n",
      " [ 23.028194  27.381554  29.696705  32.68796   40.20199 ]\n",
      " [ 39.83943   47.918514  51.332897  50.4424    58.039173]\n",
      " [ 63.32205   70.13539   70.04785   75.51823   80.98255 ]\n",
      " [ 83.83626   88.555756  93.52723   99.312454 107.03454 ]], shape=(5, 5), dtype=float32)\n"
     ]
    }
   ],
   "source": [
    "print(tf.add(prime_tensor,random_tensor))"
   ]
  },
  {
   "cell_type": "code",
   "execution_count": 8,
   "id": "82e9db22",
   "metadata": {},
   "outputs": [
    {
     "name": "stdout",
     "output_type": "stream",
     "text": [
      "tf.Tensor(\n",
      "[[-6.8659477 -6.1126328 -5.919816  -3.0467987  3.0636954]\n",
      " [ 2.9718046  6.6184464  8.303294  13.312037  17.79801  ]\n",
      " [22.160568  26.081486  30.667103  35.5576    35.960827 ]\n",
      " [42.67795   47.864613  51.95215   58.481773  61.01745  ]\n",
      " [62.163742  69.444244  72.47277   78.687546  86.96546  ]], shape=(5, 5), dtype=float32)\n"
     ]
    }
   ],
   "source": [
    "print(tf.subtract(prime_tensor,random_tensor))"
   ]
  },
  {
   "cell_type": "code",
   "execution_count": 9,
   "id": "97e4ab92",
   "metadata": {},
   "outputs": [
    {
     "name": "stdout",
     "output_type": "stream",
     "text": [
      "tf.Tensor(\n",
      "[[ 17.731895  27.337898  54.59908   70.32759   87.29935 ]\n",
      " [130.36655  176.48642  203.23741  222.82314  324.85773 ]\n",
      " [274.0224   403.98502  423.64877  320.02332  518.8412  ]\n",
      " [547.06854  656.9879   551.91907  570.72107  708.76117 ]\n",
      " [791.04675  754.90497  873.76025  917.80853  973.3503  ]], shape=(5, 5), dtype=float32)\n"
     ]
    }
   ],
   "source": [
    "print(tf.multiply(prime_tensor,random_tensor))"
   ]
  },
  {
   "cell_type": "code",
   "execution_count": 10,
   "id": "b330ee4a",
   "metadata": {},
   "outputs": [
    {
     "name": "stdout",
     "output_type": "stream",
     "text": [
      "tf.Tensor(\n",
      "[[0.2255822  0.32921332 0.45788318 0.6967394  1.3860356 ]\n",
      " [1.2963449  1.6375198  1.7762477  2.3740802  2.5888257 ]\n",
      " [3.5070124  3.3887393  3.9679093  5.777704   4.257565  ]\n",
      " [5.1346397  5.2984233  6.7419305  7.8654885  7.11241   ]\n",
      " [6.7366433  8.267265   7.8843136  8.630341   9.666613  ]], shape=(5, 5), dtype=float32)\n"
     ]
    }
   ],
   "source": [
    "print(tf.divide(prime_tensor,random_tensor))"
   ]
  },
  {
   "cell_type": "markdown",
   "id": "5436587a",
   "metadata": {},
   "source": [
    "# Nilai Minimum dan Maximum"
   ]
  },
  {
   "cell_type": "code",
   "execution_count": 14,
   "id": "143a6120",
   "metadata": {},
   "outputs": [
    {
     "name": "stdout",
     "output_type": "stream",
     "text": [
      "nilai max berdasarkan kolom :  tf.Tensor([4 3 0 4 1], shape=(5,), dtype=int64)\n",
      "nilai max berdasarkan baris :  tf.Tensor([2 4 4 1 0], shape=(5,), dtype=int64)\n"
     ]
    }
   ],
   "source": [
    "max_kolom = tf.argmax(random_tensor, axis = 0)\n",
    "\n",
    "print(\"nilai max berdasarkan kolom : \", max_kolom)\n",
    "\n",
    "max_baris = tf.argmax(random_tensor, axis = 1)\n",
    "\n",
    "print(\"nilai max berdasarkan baris : \", max_baris)"
   ]
  },
  {
   "cell_type": "code",
   "execution_count": 17,
   "id": "3c33e058",
   "metadata": {},
   "outputs": [
    {
     "name": "stdout",
     "output_type": "stream",
     "text": [
      "nilai max berdasarkan kolom :  tf.Tensor([2 0 3 2 0], shape=(5,), dtype=int64)\n",
      "nilai max berdasarkan baris :  tf.Tensor([4 3 3 3 1], shape=(5,), dtype=int64)\n"
     ]
    }
   ],
   "source": [
    "min_kolom = tf.argmin(random_tensor, axis = 0)\n",
    "\n",
    "print(\"nilai max berdasarkan kolom : \", min_kolom)\n",
    "\n",
    "min_baris = tf.argmin(random_tensor, axis = 1)\n",
    "\n",
    "print(\"nilai max berdasarkan baris : \", min_baris)"
   ]
  },
  {
   "cell_type": "markdown",
   "id": "68916adc",
   "metadata": {},
   "source": [
    "# Tensor Concatenation"
   ]
  },
  {
   "cell_type": "code",
   "execution_count": 23,
   "id": "a7076f00",
   "metadata": {},
   "outputs": [
    {
     "name": "stdout",
     "output_type": "stream",
     "text": [
      "tf.Tensor(\n",
      "[[ 2.         3.         5.         7.        11.       ]\n",
      " [13.        17.        19.        23.        29.       ]\n",
      " [31.        37.        41.        43.        47.       ]\n",
      " [53.        59.        61.        67.        71.       ]\n",
      " [73.        79.        83.        89.        97.       ]\n",
      " [ 8.865948   9.112633  10.919816  10.046799   7.9363046]\n",
      " [10.028195  10.381554  10.696706   9.687963  11.20199  ]\n",
      " [ 8.839433  10.918514  10.332897   7.442403  11.039174 ]\n",
      " [10.322048  11.135388   9.047853   8.518225   9.982552 ]\n",
      " [10.836257   9.555759  10.527232  10.312455  10.034539 ]], shape=(10, 5), dtype=float32)\n"
     ]
    }
   ],
   "source": [
    "concat_tensor = tf.concat([prime_tensor,random_tensor], axis = 0)\n",
    "print(concat_tensor)"
   ]
  },
  {
   "cell_type": "code",
   "execution_count": 25,
   "id": "856ef2f2",
   "metadata": {},
   "outputs": [
    {
     "name": "stdout",
     "output_type": "stream",
     "text": [
      "tf.Tensor(\n",
      "[[ 2.         3.         5.         7.        11.         8.865948\n",
      "   9.112633  10.919816  10.046799   7.9363046]\n",
      " [13.        17.        19.        23.        29.        10.028195\n",
      "  10.381554  10.696706   9.687963  11.20199  ]\n",
      " [31.        37.        41.        43.        47.         8.839433\n",
      "  10.918514  10.332897   7.442403  11.039174 ]\n",
      " [53.        59.        61.        67.        71.        10.322048\n",
      "  11.135388   9.047853   8.518225   9.982552 ]\n",
      " [73.        79.        83.        89.        97.        10.836257\n",
      "   9.555759  10.527232  10.312455  10.034539 ]], shape=(5, 10), dtype=float32)\n"
     ]
    }
   ],
   "source": [
    "concat_tensor2 = tf.concat([prime_tensor,random_tensor], axis = 1)\n",
    "print(concat_tensor2)"
   ]
  },
  {
   "cell_type": "code",
   "execution_count": 26,
   "id": "580ffaba",
   "metadata": {},
   "outputs": [
    {
     "name": "stdout",
     "output_type": "stream",
     "text": [
      "(10, 5)\n",
      "(5, 10)\n"
     ]
    }
   ],
   "source": [
    "print(concat_tensor.shape)\n",
    "print(concat_tensor2.shape)"
   ]
  },
  {
   "cell_type": "markdown",
   "id": "334f3ebf",
   "metadata": {},
   "source": [
    "# Tensor Sorting\n",
    "\n",
    "## Descending"
   ]
  },
  {
   "cell_type": "code",
   "execution_count": 27,
   "id": "f2d7cdf6",
   "metadata": {},
   "outputs": [
    {
     "name": "stdout",
     "output_type": "stream",
     "text": [
      "tf.Tensor(\n",
      "[[11.  7.  5.  3.  2.]\n",
      " [29. 23. 19. 17. 13.]\n",
      " [47. 43. 41. 37. 31.]\n",
      " [71. 67. 61. 59. 53.]\n",
      " [97. 89. 83. 79. 73.]], shape=(5, 5), dtype=float32)\n"
     ]
    }
   ],
   "source": [
    "prime_desc = tf.sort(prime_tensor, direction=\"DESCENDING\")\n",
    "print(prime_desc)"
   ]
  },
  {
   "cell_type": "code",
   "execution_count": 28,
   "id": "87b6dad5",
   "metadata": {},
   "outputs": [
    {
     "name": "stdout",
     "output_type": "stream",
     "text": [
      "tf.Tensor(\n",
      "[[10.919816  10.046799   9.112633   8.865948   7.9363046]\n",
      " [11.20199   10.696706  10.381554  10.028195   9.687963 ]\n",
      " [11.039174  10.918514  10.332897   8.839433   7.442403 ]\n",
      " [11.135388  10.322048   9.982552   9.047853   8.518225 ]\n",
      " [10.836257  10.527232  10.312455  10.034539   9.555759 ]], shape=(5, 5), dtype=float32)\n"
     ]
    }
   ],
   "source": [
    "random_desc = tf.sort(random_tensor, direction=\"DESCENDING\")\n",
    "print(random_desc)"
   ]
  },
  {
   "cell_type": "code",
   "execution_count": null,
   "id": "ab9ae6af",
   "metadata": {},
   "outputs": [],
   "source": []
  }
 ],
 "metadata": {
  "kernelspec": {
   "display_name": "Python 3 (ipykernel)",
   "language": "python",
   "name": "python3"
  },
  "language_info": {
   "codemirror_mode": {
    "name": "ipython",
    "version": 3
   },
   "file_extension": ".py",
   "mimetype": "text/x-python",
   "name": "python",
   "nbconvert_exporter": "python",
   "pygments_lexer": "ipython3",
   "version": "3.10.7"
  }
 },
 "nbformat": 4,
 "nbformat_minor": 5
}
